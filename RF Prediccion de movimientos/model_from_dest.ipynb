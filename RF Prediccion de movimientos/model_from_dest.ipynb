{
 "cells": [
  {
   "cell_type": "markdown",
   "metadata": {},
   "source": [
    "# Modelo de predicción de desplazamientos desde departamentos\n",
    "\n",
    "Con este modelo se pretende predecir el **número de movimientos de salida** con origen en un departamento determinado. Esto ha sido posible gracias a los datos suministrados por **LUCA**, una unidad de servicios Big Data de Telefónica:\n",
    "\n",
    "[Web de LUCA](https://www.luca-d3.com/)"
   ]
  },
  {
   "cell_type": "markdown",
   "metadata": {},
   "source": [
    "Cargamos las **librerias** necesarias"
   ]
  },
  {
   "cell_type": "code",
   "execution_count": 19,
   "metadata": {
    "collapsed": false
   },
   "outputs": [],
   "source": [
    "library(mlbench)\n",
    "library(caret)\n",
    "library(randomForest)\n",
    "library(Hmisc)\n",
    "library(h2o)"
   ]
  },
  {
   "cell_type": "markdown",
   "metadata": {},
   "source": [
    "Iniciamos **H2O**"
   ]
  },
  {
   "cell_type": "code",
   "execution_count": 20,
   "metadata": {
    "collapsed": false
   },
   "outputs": [
    {
     "name": "stdout",
     "output_type": "stream",
     "text": [
      " Connection successful!\n",
      "\n",
      "R is connected to the H2O cluster: \n",
      "    H2O cluster uptime:         23 minutes 41 seconds \n",
      "    H2O cluster version:        3.10.3.6 \n",
      "    H2O cluster version age:    1 month and 27 days  \n",
      "    H2O cluster name:           H2O_started_from_R_Ordenador_njn934 \n",
      "    H2O cluster total nodes:    1 \n",
      "    H2O cluster total memory:   1.20 GB \n",
      "    H2O cluster total cores:    4 \n",
      "    H2O cluster allowed cores:  2 \n",
      "    H2O cluster healthy:        TRUE \n",
      "    H2O Connection ip:          localhost \n",
      "    H2O Connection port:        54321 \n",
      "    H2O Connection proxy:       NA \n",
      "    R Version:                  R version 3.3.2 (2016-10-31) \n",
      "\n"
     ]
    }
   ],
   "source": [
    "h2o <- h2o.init()"
   ]
  },
  {
   "cell_type": "markdown",
   "metadata": {},
   "source": [
    "Cargamos los datos (Datos cerrados, no es posible compartirlos)"
   ]
  },
  {
   "cell_type": "code",
   "execution_count": 21,
   "metadata": {
    "collapsed": true
   },
   "outputs": [],
   "source": [
    "journeys <- read.csv2(\".../hack4good_journeys.csv\", sep = ',')\n",
    "mun_dep <- read.csv2(\".../CO_ids_nombres.csv\", sep = ';')"
   ]
  },
  {
   "cell_type": "code",
   "execution_count": 22,
   "metadata": {
    "collapsed": false,
    "scrolled": true
   },
   "outputs": [
    {
     "data": {
      "text/html": [
       "<table>\n",
       "<thead><tr><th scope=col>date_dt</th><th scope=col>cod_mpio_origin</th><th scope=col>cod_mpio_destination</th><th scope=col>journeys</th><th scope=col>people</th></tr></thead>\n",
       "<tbody>\n",
       "\t<tr><td>2015-02-01</td><td>2         </td><td> 2        </td><td>  109     </td><td>  101     </td></tr>\n",
       "\t<tr><td>2015-02-01</td><td>2         </td><td> 6        </td><td>   53     </td><td>   53     </td></tr>\n",
       "\t<tr><td>2015-02-01</td><td>3         </td><td> 3        </td><td>  319     </td><td>  289     </td></tr>\n",
       "\t<tr><td>2015-02-01</td><td>4         </td><td> 4        </td><td>18345     </td><td>17653     </td></tr>\n",
       "\t<tr><td>2015-02-01</td><td>4         </td><td>13        </td><td>   35     </td><td>   35     </td></tr>\n",
       "\t<tr><td>2015-02-01</td><td>4         </td><td>40        </td><td>   34     </td><td>   34     </td></tr>\n",
       "</tbody>\n",
       "</table>\n"
      ],
      "text/latex": [
       "\\begin{tabular}{r|lllll}\n",
       " date\\_dt & cod\\_mpio\\_origin & cod\\_mpio\\_destination & journeys & people\\\\\n",
       "\\hline\n",
       "\t 2015-02-01 & 2          &  2         &   109      &   101     \\\\\n",
       "\t 2015-02-01 & 2          &  6         &    53      &    53     \\\\\n",
       "\t 2015-02-01 & 3          &  3         &   319      &   289     \\\\\n",
       "\t 2015-02-01 & 4          &  4         & 18345      & 17653     \\\\\n",
       "\t 2015-02-01 & 4          & 13         &    35      &    35     \\\\\n",
       "\t 2015-02-01 & 4          & 40         &    34      &    34     \\\\\n",
       "\\end{tabular}\n"
      ],
      "text/markdown": [
       "\n",
       "date_dt | cod_mpio_origin | cod_mpio_destination | journeys | people | \n",
       "|---|---|---|---|---|---|\n",
       "| 2015-02-01 | 2          |  2         |   109      |   101      | \n",
       "| 2015-02-01 | 2          |  6         |    53      |    53      | \n",
       "| 2015-02-01 | 3          |  3         |   319      |   289      | \n",
       "| 2015-02-01 | 4          |  4         | 18345      | 17653      | \n",
       "| 2015-02-01 | 4          | 13         |    35      |    35      | \n",
       "| 2015-02-01 | 4          | 40         |    34      |    34      | \n",
       "\n",
       "\n"
      ],
      "text/plain": [
       "  date_dt    cod_mpio_origin cod_mpio_destination journeys people\n",
       "1 2015-02-01 2                2                     109      101 \n",
       "2 2015-02-01 2                6                      53       53 \n",
       "3 2015-02-01 3                3                     319      289 \n",
       "4 2015-02-01 4                4                   18345    17653 \n",
       "5 2015-02-01 4               13                      35       35 \n",
       "6 2015-02-01 4               40                      34       34 "
      ]
     },
     "metadata": {},
     "output_type": "display_data"
    }
   ],
   "source": [
    "head(journeys)"
   ]
  },
  {
   "cell_type": "code",
   "execution_count": 23,
   "metadata": {
    "collapsed": false
   },
   "outputs": [
    {
     "data": {
      "text/html": [
       "<table>\n",
       "<thead><tr><th scope=col>id_mpio</th><th scope=col>nombre_mpio</th><th scope=col>id_dpto</th><th scope=col>nombre_dpto</th></tr></thead>\n",
       "<tbody>\n",
       "\t<tr><td>1083         </td><td>EL ENCANTO   </td><td>91           </td><td>AMAZONAS     </td></tr>\n",
       "\t<tr><td>1081         </td><td>LA CHORRERA  </td><td>91           </td><td>AMAZONAS     </td></tr>\n",
       "\t<tr><td>1082         </td><td>LA PEDRERA   </td><td>91           </td><td>AMAZONAS     </td></tr>\n",
       "\t<tr><td>1101         </td><td>LA VICTORIA  </td><td>91           </td><td>AMAZONAS     </td></tr>\n",
       "\t<tr><td>1085         </td><td>LETICIA      </td><td>91           </td><td>AMAZONAS     </td></tr>\n",
       "\t<tr><td>1078         </td><td>MIRITI-PARANA</td><td>91           </td><td>AMAZONAS     </td></tr>\n",
       "</tbody>\n",
       "</table>\n"
      ],
      "text/latex": [
       "\\begin{tabular}{r|llll}\n",
       " id\\_mpio & nombre\\_mpio & id\\_dpto & nombre\\_dpto\\\\\n",
       "\\hline\n",
       "\t 1083          & EL ENCANTO    & 91            & AMAZONAS     \\\\\n",
       "\t 1081          & LA CHORRERA   & 91            & AMAZONAS     \\\\\n",
       "\t 1082          & LA PEDRERA    & 91            & AMAZONAS     \\\\\n",
       "\t 1101          & LA VICTORIA   & 91            & AMAZONAS     \\\\\n",
       "\t 1085          & LETICIA       & 91            & AMAZONAS     \\\\\n",
       "\t 1078          & MIRITI-PARANA & 91            & AMAZONAS     \\\\\n",
       "\\end{tabular}\n"
      ],
      "text/markdown": [
       "\n",
       "id_mpio | nombre_mpio | id_dpto | nombre_dpto | \n",
       "|---|---|---|---|---|---|\n",
       "| 1083          | EL ENCANTO    | 91            | AMAZONAS      | \n",
       "| 1081          | LA CHORRERA   | 91            | AMAZONAS      | \n",
       "| 1082          | LA PEDRERA    | 91            | AMAZONAS      | \n",
       "| 1101          | LA VICTORIA   | 91            | AMAZONAS      | \n",
       "| 1085          | LETICIA       | 91            | AMAZONAS      | \n",
       "| 1078          | MIRITI-PARANA | 91            | AMAZONAS      | \n",
       "\n",
       "\n"
      ],
      "text/plain": [
       "  id_mpio nombre_mpio   id_dpto nombre_dpto\n",
       "1 1083    EL ENCANTO    91      AMAZONAS   \n",
       "2 1081    LA CHORRERA   91      AMAZONAS   \n",
       "3 1082    LA PEDRERA    91      AMAZONAS   \n",
       "4 1101    LA VICTORIA   91      AMAZONAS   \n",
       "5 1085    LETICIA       91      AMAZONAS   \n",
       "6 1078    MIRITI-PARANA 91      AMAZONAS   "
      ]
     },
     "metadata": {},
     "output_type": "display_data"
    }
   ],
   "source": [
    "head(mun_dep)"
   ]
  },
  {
   "cell_type": "markdown",
   "metadata": {},
   "source": [
    "## Random forest\n",
    "\n",
    "Este algoritmo genera una gran cantidad de **decision trees** individuales, cada uno de estos formados con una muestra aleatoria de variables y observaciones del data set. Cada decision tree genera independientemente su predicción y el algoritmo en su conjunto se queda con aquella predicción más elegida, teniendo en cuenta así distintas agrupaciones posibles de variables y de individuos.\n",
    "\n",
    "Se ha realizado un estudio estadístico/matemático de los datos y se ha apreciado un **patrón estacional** en los desplazamientos entre departamentos. Se ha conseguido introducir este patrón gracias a la inclusión de **retardos** en los movimientos entre departamentos. "
   ]
  },
  {
   "cell_type": "code",
   "execution_count": 24,
   "metadata": {
    "collapsed": true
   },
   "outputs": [],
   "source": [
    "model_pred_to_dest <- function(dpto)\n",
    "{\n",
    "  # ID de los departamentos a predecir\n",
    "  id <- unique(mun_dep$id_dpto[which(mun_dep$nombre_dpto==dpto)])\n",
    "  \n",
    "  # Seleccionamos los departamentos de destino de los departamentos a predecir\n",
    "  journeys_slc <- journeys[which(journeys$cod_mpio_origin==id),] #\n",
    "  \n",
    "  if (length(journeys_slc$date_dt) > 0){\n",
    "    # Formato de las fechas\n",
    "    journeys_slc$date_dt <- as.Date(journeys_slc$date_dt)\n",
    "    \n",
    "    # División en training y test sets de acuerdo a la fecha\n",
    "    test <- journeys_slc[which(journeys_slc$date_dt>='2015-04-15'), ]\n",
    "    train <- journeys_slc[which(journeys_slc$date_dt<'2015-04-15'), ]\n",
    "    train <- train[order(train[,3]), ]\n",
    "    test <- test[order(test[,3]), ]\n",
    "    cod_mpio_destinations <- unique(train$cod_mpio_origin)\n",
    "    \n",
    "    # Inclusión de retardos en los desplazamientos en el training set\n",
    "    TRAIN <- list()\n",
    "    \n",
    "    for (j in 1:length(cod_mpio_destinations)){\n",
    "      if (cod_mpio_destinations[j] %in% train$cod_mpio_origin){\n",
    "        train_dest <- train[which(train$cod_mpio_origin == cod_mpio_destinations[j]), ]\n",
    "        for (i in 1:7){\n",
    "          colname = paste('lag',i)\n",
    "          train_dest[colname] <- NA\n",
    "          train_dest[colname] <- Lag(train_dest$journeys, i)\n",
    "          train_dest[colname] <- NA\n",
    "          train_dest[colname] <- Lag(train_dest$journeys, i)\n",
    "        }\n",
    "      }\n",
    "      TRAIN[[j]] <- train_dest\n",
    "    }\n",
    "    \n",
    "    # Inclusión de retardos en los desplazamientos en el test set\n",
    "    TEST <- list()\n",
    "    \n",
    "    for (j in 1:length(cod_mpio_destinations)){\n",
    "      if (cod_mpio_destinations[j] %in% test$cod_mpio_origin){\n",
    "        test_dest <- test[which(test$cod_mpio_origin == cod_mpio_destinations[j]),]\n",
    "        for (i in 1:7){\n",
    "          colname = paste('lag',i)\n",
    "          test_dest[colname] <- NA\n",
    "          test_dest[colname] <- Lag(test_dest$journeys, i)\n",
    "          test_dest[colname] <- NA\n",
    "          test_dest[colname] <- Lag(test_dest$journeys, i)\n",
    "        }\n",
    "      }\n",
    "      TEST[[j]] <- test_dest\n",
    "    }\n",
    "    \n",
    "    # Combinamos el TRAIN  y TEST\n",
    "    train <- do.call(rbind.data.frame, TRAIN)\n",
    "    test <- do.call(rbind.data.frame, TEST)\n",
    "    \n",
    "    # Seleccionamos las variables independientes y dependientes\n",
    "    predictors <- colnames(train[, !(names(train) %in% c('journeys','people','cod_mpio_destination'))])\n",
    "    target <- 'journeys'\n",
    "    \n",
    "    # Creamos un training y un test set del training set original\n",
    "    train.train <- train[1:round(nrow(train)*0.8), ]\n",
    "    train.test <- train[round(nrow(train)*0.8):nrow(train), ]\n",
    "    \n",
    "    # Cargamos estos datos en la nube de H2O\n",
    "    train.train.frame <- as.h2o(train.train, cod_mpio_destination_frame = \"train.train\")\n",
    "    train.test.frame <- as.h2o(train.test, cod_mpio_destination_frame = \"train.test\")\n",
    "    \n",
    "    # Random Forest sobre el train.train set\n",
    "    rf.train = h2o.randomForest(\n",
    "      x = predictors,\n",
    "      y = target,\n",
    "      training_frame = train.train.frame,\n",
    "      validation_frame = NULL,\n",
    "      model_id = \"rf_train\",\n",
    "      ntrees = 500, mtries = 8)\n",
    "    \n",
    "    # Predicciones y residuales\n",
    "    test.pred <- as.data.frame(h2o.predict(rf.train, train.test.frame))\n",
    "    resid.test <- train.test$journeys - test.pred$predict\n",
    "    \n",
    "    # Cargamos los datos del training set completo en la nube de H2O\n",
    "    train.frame <- as.h2o(train, cod_mpio_destination_frame = \"train\")\n",
    "    \n",
    "    # Random Forest sobre el training set completo\n",
    "    rf.trainf = h2o.randomForest(\n",
    "      x = predictors,\n",
    "      y = target,\n",
    "      training_frame = train.frame,\n",
    "      validation_frame = NULL,\n",
    "      model_id = \"rf_train_tot\",\n",
    "      ntrees = 500, mtries = 6)\n",
    "    \n",
    "    # Cargamos los datos del test set completo en la nube de H2O\n",
    "    test.frame <- as.h2o(test, cod_mpio_destination_frame = \"test\")\n",
    "    \n",
    "    # Predicciones y resultados finales\n",
    "    predictions.rf <- as.data.frame(h2o.predict(rf.trainf, test.frame))\n",
    "    resid.test <- test$journeys - predictions.rf$predict\n",
    "    \n",
    "    FINAL <- list(depart = dpto, mae = mean(abs(resid.test)))\n",
    "  }\n",
    "  else{ FINAL <- list()}\n",
    "  \n",
    "}"
   ]
  },
  {
   "cell_type": "markdown",
   "metadata": {},
   "source": [
    "Seleccionamos el departamento o departamentos a predecir"
   ]
  },
  {
   "cell_type": "code",
   "execution_count": 27,
   "metadata": {
    "collapsed": false
   },
   "outputs": [
    {
     "data": {
      "text/html": [
       "<ol class=list-inline>\n",
       "\t<li>AMAZONAS</li>\n",
       "\t<li>ANTIOQUIA</li>\n",
       "\t<li>ARAUCA</li>\n",
       "\t<li>ARCHIPIELAGO DE SAN ANDRES PROVIDENCIA Y SANTA CATALINA</li>\n",
       "\t<li>ATLANTICO</li>\n",
       "\t<li>BOLIVAR</li>\n",
       "\t<li>BOYACA</li>\n",
       "\t<li>CALDAS</li>\n",
       "\t<li>CAQUETA</li>\n",
       "\t<li>CASANARE</li>\n",
       "\t<li>CAUCA</li>\n",
       "\t<li>CESAR</li>\n",
       "\t<li>CHOCO</li>\n",
       "\t<li>CORDOBA</li>\n",
       "\t<li>CUNDINAMARCA</li>\n",
       "\t<li>GUAINIA</li>\n",
       "\t<li>GUAVIARE</li>\n",
       "\t<li>HUILA</li>\n",
       "\t<li>LA GUAJIRA</li>\n",
       "\t<li>MAGDALENA</li>\n",
       "\t<li>META</li>\n",
       "\t<li>NARIÃ‘O</li>\n",
       "\t<li>NORTE DE SANTANDER</li>\n",
       "\t<li>PUTUMAYO</li>\n",
       "\t<li>QUINDIO</li>\n",
       "\t<li>RISARALDA</li>\n",
       "\t<li>SANTAFE DE BOGOTA D.C</li>\n",
       "\t<li>SANTANDER</li>\n",
       "\t<li>SUCRE</li>\n",
       "\t<li>TOLIMA</li>\n",
       "\t<li>VALLE DEL CAUCA</li>\n",
       "\t<li>VAUPES</li>\n",
       "\t<li>VICHADA</li>\n",
       "</ol>\n"
      ],
      "text/latex": [
       "\\begin{enumerate*}\n",
       "\\item AMAZONAS\n",
       "\\item ANTIOQUIA\n",
       "\\item ARAUCA\n",
       "\\item ARCHIPIELAGO DE SAN ANDRES PROVIDENCIA Y SANTA CATALINA\n",
       "\\item ATLANTICO\n",
       "\\item BOLIVAR\n",
       "\\item BOYACA\n",
       "\\item CALDAS\n",
       "\\item CAQUETA\n",
       "\\item CASANARE\n",
       "\\item CAUCA\n",
       "\\item CESAR\n",
       "\\item CHOCO\n",
       "\\item CORDOBA\n",
       "\\item CUNDINAMARCA\n",
       "\\item GUAINIA\n",
       "\\item GUAVIARE\n",
       "\\item HUILA\n",
       "\\item LA GUAJIRA\n",
       "\\item MAGDALENA\n",
       "\\item META\n",
       "\\item NARIÃ‘O\n",
       "\\item NORTE DE SANTANDER\n",
       "\\item PUTUMAYO\n",
       "\\item QUINDIO\n",
       "\\item RISARALDA\n",
       "\\item SANTAFE DE BOGOTA D.C\n",
       "\\item SANTANDER\n",
       "\\item SUCRE\n",
       "\\item TOLIMA\n",
       "\\item VALLE DEL CAUCA\n",
       "\\item VAUPES\n",
       "\\item VICHADA\n",
       "\\end{enumerate*}\n"
      ],
      "text/markdown": [
       "1. AMAZONAS\n",
       "2. ANTIOQUIA\n",
       "3. ARAUCA\n",
       "4. ARCHIPIELAGO DE SAN ANDRES PROVIDENCIA Y SANTA CATALINA\n",
       "5. ATLANTICO\n",
       "6. BOLIVAR\n",
       "7. BOYACA\n",
       "8. CALDAS\n",
       "9. CAQUETA\n",
       "10. CASANARE\n",
       "11. CAUCA\n",
       "12. CESAR\n",
       "13. CHOCO\n",
       "14. CORDOBA\n",
       "15. CUNDINAMARCA\n",
       "16. GUAINIA\n",
       "17. GUAVIARE\n",
       "18. HUILA\n",
       "19. LA GUAJIRA\n",
       "20. MAGDALENA\n",
       "21. META\n",
       "22. NARIÃ‘O\n",
       "23. NORTE DE SANTANDER\n",
       "24. PUTUMAYO\n",
       "25. QUINDIO\n",
       "26. RISARALDA\n",
       "27. SANTAFE DE BOGOTA D.C\n",
       "28. SANTANDER\n",
       "29. SUCRE\n",
       "30. TOLIMA\n",
       "31. VALLE DEL CAUCA\n",
       "32. VAUPES\n",
       "33. VICHADA\n",
       "\n",
       "\n"
      ],
      "text/plain": [
       " [1] AMAZONAS                                               \n",
       " [2] ANTIOQUIA                                              \n",
       " [3] ARAUCA                                                 \n",
       " [4] ARCHIPIELAGO DE SAN ANDRES PROVIDENCIA Y SANTA CATALINA\n",
       " [5] ATLANTICO                                              \n",
       " [6] BOLIVAR                                                \n",
       " [7] BOYACA                                                 \n",
       " [8] CALDAS                                                 \n",
       " [9] CAQUETA                                                \n",
       "[10] CASANARE                                               \n",
       "[11] CAUCA                                                  \n",
       "[12] CESAR                                                  \n",
       "[13] CHOCO                                                  \n",
       "[14] CORDOBA                                                \n",
       "[15] CUNDINAMARCA                                           \n",
       "[16] GUAINIA                                                \n",
       "[17] GUAVIARE                                               \n",
       "[18] HUILA                                                  \n",
       "[19] LA GUAJIRA                                             \n",
       "[20] MAGDALENA                                              \n",
       "[21] META                                                   \n",
       "[22] NARIÃO                                                \n",
       "[23] NORTE DE SANTANDER                                     \n",
       "[24] PUTUMAYO                                               \n",
       "[25] QUINDIO                                                \n",
       "[26] RISARALDA                                              \n",
       "[27] SANTAFE DE BOGOTA D.C                                  \n",
       "[28] SANTANDER                                              \n",
       "[29] SUCRE                                                  \n",
       "[30] TOLIMA                                                 \n",
       "[31] VALLE DEL CAUCA                                        \n",
       "[32] VAUPES                                                 \n",
       "[33] VICHADA                                                \n",
       "33 Levels: AMAZONAS ANTIOQUIA ... VICHADA"
      ]
     },
     "metadata": {},
     "output_type": "display_data"
    }
   ],
   "source": [
    "unique(mun_dep$nombre_dpto)"
   ]
  },
  {
   "cell_type": "markdown",
   "metadata": {},
   "source": [
    "Nosotros seleccionaremos a **Antioquía** y **Vaupes**"
   ]
  },
  {
   "cell_type": "code",
   "execution_count": 30,
   "metadata": {
    "collapsed": false
   },
   "outputs": [
    {
     "data": {
      "text/html": [
       "<ol class=list-inline>\n",
       "\t<li>ANTIOQUIA</li>\n",
       "\t<li>VAUPES</li>\n",
       "</ol>\n"
      ],
      "text/latex": [
       "\\begin{enumerate*}\n",
       "\\item ANTIOQUIA\n",
       "\\item VAUPES\n",
       "\\end{enumerate*}\n"
      ],
      "text/markdown": [
       "1. ANTIOQUIA\n",
       "2. VAUPES\n",
       "\n",
       "\n"
      ],
      "text/plain": [
       "[1] ANTIOQUIA VAUPES   \n",
       "33 Levels: AMAZONAS ANTIOQUIA ... VICHADA"
      ]
     },
     "metadata": {},
     "output_type": "display_data"
    }
   ],
   "source": [
    "DEPT <- unique(mun_dep$nombre_dpto)[c(2, 32)]\n",
    "DEPT"
   ]
  },
  {
   "cell_type": "markdown",
   "metadata": {},
   "source": [
    "A continuación se realiza la predicción con la siguiente función"
   ]
  },
  {
   "cell_type": "code",
   "execution_count": 34,
   "metadata": {
    "collapsed": true
   },
   "outputs": [
    {
     "name": "stdout",
     "output_type": "stream",
     "text": [
      "\r",
      "  |                                                                            \r",
      "  |                                                                      |   0%\r",
      "  |                                                                            \r",
      "  |======================================================================| 100%\n",
      "\r",
      "  |                                                                            \r",
      "  |                                                                      |   0%\r",
      "  |                                                                            \r",
      "  |======================================================================| 100%\n"
     ]
    },
    {
     "name": "stderr",
     "output_type": "stream",
     "text": [
      "Warning message in .h2o.startModelJob(algo, params, h2oRestApiVersion):\n",
      "\"Dropping constant columns: [cod_mpio_origin].\n",
      "\""
     ]
    },
    {
     "name": "stdout",
     "output_type": "stream",
     "text": [
      "\r",
      "  |                                                                            \r",
      "  |                                                                      |   0%\r",
      "  |                                                                            \r",
      "  |===                                                                   |   4%\r",
      "  |                                                                            \r",
      "  |===========================                                           |  39%\r",
      "  |                                                                            \r",
      "  |==============================================                        |  65%\r",
      "  |                                                                            \r",
      "  |============================================================          |  86%\r",
      "  |                                                                            \r",
      "  |======================================================================| 100%\n",
      "\r",
      "  |                                                                            \r",
      "  |                                                                      |   0%\r",
      "  |                                                                            \r",
      "  |======================================================================| 100%\n",
      "\r",
      "  |                                                                            \r",
      "  |                                                                      |   0%\r",
      "  |                                                                            \r",
      "  |======================================================================| 100%\n"
     ]
    },
    {
     "name": "stderr",
     "output_type": "stream",
     "text": [
      "Warning message in .h2o.startModelJob(algo, params, h2oRestApiVersion):\n",
      "\"Dropping constant columns: [cod_mpio_origin].\n",
      "\""
     ]
    },
    {
     "name": "stdout",
     "output_type": "stream",
     "text": [
      "\r",
      "  |                                                                            \r",
      "  |                                                                      |   0%\r",
      "  |                                                                            \r",
      "  |===                                                                   |   4%\r",
      "  |                                                                            \r",
      "  |==========================                                            |  37%\r",
      "  |                                                                            \r",
      "  |============================================                          |  63%\r",
      "  |                                                                            \r",
      "  |===========================================================           |  84%\r",
      "  |                                                                            \r",
      "  |======================================================================| 100%\n",
      "\r",
      "  |                                                                            \r",
      "  |                                                                      |   0%\r",
      "  |                                                                            \r",
      "  |======================================================================| 100%\n",
      "\r",
      "  |                                                                            \r",
      "  |                                                                      |   0%\r",
      "  |                                                                            \r",
      "  |======================================================================| 100%\n",
      "\r",
      "  |                                                                            \r",
      "  |                                                                      |   0%\r",
      "  |                                                                            \r",
      "  |======================================================================| 100%\n",
      "\r",
      "  |                                                                            \r",
      "  |                                                                      |   0%\r",
      "  |                                                                            \r",
      "  |======================================================================| 100%\n"
     ]
    },
    {
     "name": "stderr",
     "output_type": "stream",
     "text": [
      "Warning message in .h2o.startModelJob(algo, params, h2oRestApiVersion):\n",
      "\"Dropping constant columns: [cod_mpio_origin].\n",
      "\""
     ]
    },
    {
     "name": "stdout",
     "output_type": "stream",
     "text": [
      "\r",
      "  |                                                                            \r",
      "  |                                                                      |   0%\r",
      "  |                                                                            \r",
      "  |=========                                                             |  13%\r",
      "  |                                                                            \r",
      "  |=============================================                         |  64%\r",
      "  |                                                                            \r",
      "  |==================================================================    |  94%\r",
      "  |                                                                            \r",
      "  |======================================================================| 100%\n",
      "\r",
      "  |                                                                            \r",
      "  |                                                                      |   0%\r",
      "  |                                                                            \r",
      "  |======================================================================| 100%\n",
      "\r",
      "  |                                                                            \r",
      "  |                                                                      |   0%\r",
      "  |                                                                            \r",
      "  |======================================================================| 100%\n"
     ]
    },
    {
     "name": "stderr",
     "output_type": "stream",
     "text": [
      "Warning message in .h2o.startModelJob(algo, params, h2oRestApiVersion):\n",
      "\"Dropping constant columns: [cod_mpio_origin].\n",
      "\""
     ]
    },
    {
     "name": "stdout",
     "output_type": "stream",
     "text": [
      "\r",
      "  |                                                                            \r",
      "  |                                                                      |   0%\r",
      "  |                                                                            \r",
      "  |=======                                                               |  11%\r",
      "  |                                                                            \r",
      "  |=============================================                         |  65%\r",
      "  |                                                                            \r",
      "  |==================================================================    |  94%\r",
      "  |                                                                            \r",
      "  |======================================================================| 100%\n",
      "\r",
      "  |                                                                            \r",
      "  |                                                                      |   0%\r",
      "  |                                                                            \r",
      "  |======================================================================| 100%\n",
      "\r",
      "  |                                                                            \r",
      "  |                                                                      |   0%\r",
      "  |                                                                            \r",
      "  |======================================================================| 100%\n"
     ]
    }
   ],
   "source": [
    "RESULTS <- list()\n",
    "for (i in 1:length(DEPT)) {\n",
    "  dept <- DEPT[i]\n",
    "  RESULTS[[i]] <- model_pred_to_dest(dept)\n",
    "}"
   ]
  },
  {
   "cell_type": "markdown",
   "metadata": {},
   "source": [
    "Y mostramos los resultados"
   ]
  },
  {
   "cell_type": "code",
   "execution_count": 35,
   "metadata": {
    "collapsed": false
   },
   "outputs": [
    {
     "data": {
      "text/html": [
       "<ol>\n",
       "\t<li><dl>\n",
       "\t<dt>$depart</dt>\n",
       "\t\t<dd>ANTIOQUIA</dd>\n",
       "\t<dt>$mae</dt>\n",
       "\t\t<dd>15.2944999998894</dd>\n",
       "</dl>\n",
       "</li>\n",
       "\t<li><dl>\n",
       "\t<dt>$depart</dt>\n",
       "\t\t<dd>VAUPES</dd>\n",
       "\t<dt>$mae</dt>\n",
       "\t\t<dd>3.09384132712228</dd>\n",
       "</dl>\n",
       "</li>\n",
       "</ol>\n"
      ],
      "text/latex": [
       "\\begin{enumerate}\n",
       "\\item \\begin{description}\n",
       "\\item[\\$depart] ANTIOQUIA\n",
       "\\item[\\$mae] 15.2944999998894\n",
       "\\end{description}\n",
       "\n",
       "\\item \\begin{description}\n",
       "\\item[\\$depart] VAUPES\n",
       "\\item[\\$mae] 3.09384132712228\n",
       "\\end{description}\n",
       "\n",
       "\\end{enumerate}\n"
      ],
      "text/markdown": [
       "1. $depart\n",
       ":   ANTIOQUIA\n",
       "$mae\n",
       ":   15.2944999998894\n",
       "\n",
       "\n",
       "\n",
       "2. $depart\n",
       ":   VAUPES\n",
       "$mae\n",
       ":   3.09384132712228\n",
       "\n",
       "\n",
       "\n",
       "\n",
       "\n"
      ],
      "text/plain": [
       "[[1]]\n",
       "[[1]]$depart\n",
       "[1] ANTIOQUIA\n",
       "33 Levels: AMAZONAS ANTIOQUIA ... VICHADA\n",
       "\n",
       "[[1]]$mae\n",
       "[1] 15.2945\n",
       "\n",
       "\n",
       "[[2]]\n",
       "[[2]]$depart\n",
       "[1] VAUPES\n",
       "33 Levels: AMAZONAS ANTIOQUIA ... VICHADA\n",
       "\n",
       "[[2]]$mae\n",
       "[1] 3.093841\n",
       "\n"
      ]
     },
     "metadata": {},
     "output_type": "display_data"
    }
   ],
   "source": [
    "RESULTS"
   ]
  },
  {
   "cell_type": "markdown",
   "metadata": {},
   "source": [
    "Utilizando el **MAE** (*mean absolute error*) como medida de precisión del modelo"
   ]
  }
 ],
 "metadata": {
  "kernelspec": {
   "display_name": "R",
   "language": "R",
   "name": "ir"
  },
  "language_info": {
   "codemirror_mode": "r",
   "file_extension": ".r",
   "mimetype": "text/x-r-source",
   "name": "R",
   "pygments_lexer": "r",
   "version": "3.3.2"
  }
 },
 "nbformat": 4,
 "nbformat_minor": 2
}
